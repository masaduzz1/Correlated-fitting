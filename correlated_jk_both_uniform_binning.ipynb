{
 "cells": [
  {
   "cell_type": "markdown",
   "metadata": {},
   "source": [
    "## Correlated Fitting of data with Jack-knife\n",
    "This is the current version I am working with for writing a code for the correlated fitting. This version asssumes that the blocking length for the stable largest error is known."
   ]
  },
  {
   "cell_type": "code",
   "execution_count": 1,
   "metadata": {},
   "outputs": [],
   "source": [
    "#!/usr/bin/env python3\n",
    "import numpy as np\n",
    "import matplotlib.pyplot as plt\n",
    "from scipy.optimize import curve_fit\n",
    "from scipy.interpolate import UnivariateSpline\n",
    "from scipy.interpolate import interp1d\n",
    "import pylab\n",
    "import sys\n",
    "import csv\n",
    "import pandas as pd\n",
    "import random\n",
    "import jackknife_utilities\n",
    "import plotter_utilities\n",
    "import numerical_utilities\n",
    "from scipy.stats import chi2\n",
    "from IPython.core.interactiveshell import InteractiveShell\n",
    "InteractiveShell.ast_node_interactivity = \"all\"\n",
    "#np.set_printoptions(threshold=sys.maxsize)"
   ]
  },
  {
   "cell_type": "code",
   "execution_count": 2,
   "metadata": {},
   "outputs": [],
   "source": [
    "def func1(x,A,B,Delta):\n",
    "    return A*x**(-Delta)+B\n",
    "def func2(x,A,B,Delta):\n",
    "    return A*np.exp(-Delta*x)+B\n",
    "def func3(x,A,B,Delta):\n",
    "    return A*np.exp(-Delta*np.sqrt(x) ) +B\n",
    "\n",
    "def plotbase(del_r,jkavg,jkerr,tag):\n",
    "    plt.errorbar(del_r,jkavg,yerr=jkerr,\n",
    "     c='k', fmt='x', markersize='5', elinewidth=1,capsize=5)\n",
    "    #plt.rcParams[\"figure.figsize\"] = (10,10)\n",
    "\n",
    "    plt.xlabel(r'$(1-\\cos(\\theta) ) $', fontsize=30)\n",
    "    plt.ticklabel_format(useOffset=False)\n",
    "    #plt.ylabel(r'$ \\log C(\\theta)$', fontsize=16)\n",
    "    plt.yscale('log')\n",
    "    plt.xscale('log')\n",
    "    plt.annotate(r'$\\mathrm{T}$=%s' %(T), xy=(0.4,0.9),xycoords='axes fraction',fontsize=30 )\n",
    "    plt.ylabel(r'$ C(\\theta)$', fontsize=30)\n",
    "    #plt.xlim([0.2,1])\n",
    "    #plt.ylim([0.05,0.08])\n",
    "    plt.savefig(\"analysis.logscale2.CvsX.T.\"+T+\".\"+tag+\".png\",bbox_inches='tight')\n",
    "    #plt.show()\n",
    "    plt.close()"
   ]
  },
  {
   "cell_type": "markdown",
   "metadata": {},
   "source": [
    "Returned probability data is stored below in an 2D array named Plog. Data for each row comes from seperate configurations. Thus data in each column indicate return probability at a praticular step $\\sigma$.\n"
   ]
  },
  {
   "cell_type": "code",
   "execution_count": 3,
   "metadata": {},
   "outputs": [
    {
     "name": "stdout",
     "output_type": "stream",
     "text": [
      "check rlength at config file: rlength= 532\n",
      "saved from how many config? 10000\n",
      "Best bin=200, block length/data in each bin=50\n"
     ]
    }
   ],
   "source": [
    "######## main parameters ##########################\n",
    "VOL='1062'\n",
    "T='2.7'\n",
    "p01=1\n",
    "p02=0.1\n",
    "p03=0.25\n",
    "str3=\"../data/corr.Lbv\"+VOL+\".T\"+T  # i/p file: two column format: ln(\\sigma)    ln(P)\n",
    "\n",
    "X=np.array(pd.read_csv(str3,index_col=False,header=None,sep='\\s+') )\n",
    "A=X[:,0]\n",
    "rc=X[:,1]\n",
    "\n",
    "fit_start=2\n",
    "fit_end=17\n",
    "dp=20\n",
    "r_length=int(int(VOL)/2) +1\n",
    "omit_data_from_end=0\n",
    "cutoff=r_length-omit_data_from_end\n",
    "print(\"check rlength at config file: rlength=\",r_length)\n",
    "del_r=A[0:cutoff].astype(np.int32)\n",
    "del_r= 1 - np.cos(del_r/float(VOL)*2*np.pi)\n",
    "#print(del_rUB)\n",
    "#quit()\n",
    "config_length=len(rc)//r_length\n",
    "print(\"saved from how many config?\", config_length)\n",
    "rc=rc.reshape(config_length,r_length)\n",
    "rc=rc[:,0:cutoff]\n",
    "\n",
    "#rc[:,0] *=2\n",
    "\n",
    "#print(rc[10,:])\n",
    "\n",
    "#rc= rc/(float(VOL)/2)\n",
    "\n",
    "length_of_block=200\n",
    "bin=len(rc[:,0])//length_of_block\n",
    "rc=rc[0:bin*length_of_block,:]\n",
    "\n",
    "print(\"Best bin=%d, block length/data in each bin=%d\" %(length_of_block,bin))"
   ]
  },
  {
   "cell_type": "code",
   "execution_count": 4,
   "metadata": {},
   "outputs": [
    {
     "name": "stdout",
     "output_type": "stream",
     "text": [
      "dimension good? (532,) (10000, 532)\n"
     ]
    }
   ],
   "source": [
    "# find jk avg and jkerror for the best jk case: of lnP vs lnSigma\n",
    "print(\"dimension good?\",del_r.shape,rc.shape)\n",
    "\n",
    "binned_data=np.apply_along_axis(jackknife_utilities.binner ,0,rc,length_of_block)\n",
    "average_data=np.apply_along_axis(jackknife_utilities.partial_average,0,binned_data)\n",
    "#average_data.shape\n",
    "\n",
    "#jkerr.shape\n",
    "#np.mean(average_data,axis=0)\n",
    "# #average_data[0,:]\n",
    "# fig = plt.figure(facecolor=\"w\")\n",
    "# plt.plot(del_r,np.mean(average_data,axis=0),'^k',ms='5')\n",
    "# #plt.yscale('log')\n",
    "# #plt.xscale('log')\n",
    "# plt.annotate(r'$\\mathrm{T}$=%s' %(T), xy=(0.4,0.9),xycoords='axes fraction',fontsize=30 )\n",
    "# plt.xlabel(r'$r$',fontsize=20)\n",
    "# plt.ylabel(r'$\\langle C(r) \\rangle$',fontsize=20)\n",
    "# plt.savefig(\"T\"+T+\".png\",bbox_inches='tight')\n",
    "# plt.show()\n",
    "# plt.close()\n",
    "\n",
    "#average_data[:,2]\n",
    "#average_data[0,:]"
   ]
  },
  {
   "cell_type": "code",
   "execution_count": 5,
   "metadata": {},
   "outputs": [],
   "source": [
    "\n",
    "\n",
    "#x=np.arange(1,101).reshape((10,10))\n",
    "#decimation4(x,3)"
   ]
  },
  {
   "cell_type": "code",
   "execution_count": 6,
   "metadata": {},
   "outputs": [
    {
     "data": {
      "text/plain": [
       "(50, 26)"
      ]
     },
     "execution_count": 6,
     "metadata": {},
     "output_type": "execute_result"
    },
    {
     "data": {
      "text/plain": [
       "(26,)"
      ]
     },
     "execution_count": 6,
     "metadata": {},
     "output_type": "execute_result"
    }
   ],
   "source": [
    "\n",
    "\n",
    "dp2=len(del_r)//dp\n",
    "\n",
    "del_r_dec=del_r[0:dp2*dp]\n",
    "\n",
    "del_r_dec=np.mean( del_r_dec.reshape( (dp2,dp) ), axis=1) # axis 1 sum over column data: rowwise sum: final dim=#of row\n",
    "#del_r_dec\n",
    "\n",
    "avg_dec=numerical_utilities.decimation4(average_data,dp)\n",
    "\n",
    "avg_dec.shape\n",
    "del_r_dec.shape"
   ]
  },
  {
   "cell_type": "code",
   "execution_count": 7,
   "metadata": {},
   "outputs": [
    {
     "name": "stdout",
     "output_type": "stream",
     "text": [
      "CPU times: user 2 µs, sys: 0 ns, total: 2 µs\n",
      "Wall time: 3.1 µs\n"
     ]
    },
    {
     "data": {
      "text/plain": [
       "[<matplotlib.lines.Line2D at 0x7f0ea58a0d00>]"
      ]
     },
     "execution_count": 7,
     "metadata": {},
     "output_type": "execute_result"
    },
    {
     "data": {
      "image/png": "[encoded data removed]",
      "text/plain": [
       "<Figure size 432x288 with 1 Axes>"
      ]
     },
     "metadata": {
      "needs_background": "light"
     },
     "output_type": "display_data"
    }
   ],
   "source": [
    "%time\n",
    "#avg_dec[0,:]\n",
    "#avg_dec[:,0]\n",
    "plt.plot(del_r_dec[1:len(del_r_dec)],np.mean(avg_dec,axis=0)[1:len(del_r_dec)] ,'x') \n",
    "plt.show()\n",
    "plt.close()"
   ]
  },
  {
   "cell_type": "code",
   "execution_count": 8,
   "metadata": {},
   "outputs": [
    {
     "name": "stdout",
     "output_type": "stream",
     "text": [
      "CPU times: user 2 µs, sys: 0 ns, total: 2 µs\n",
      "Wall time: 3.34 µs\n"
     ]
    },
    {
     "data": {
      "text/plain": [
       "((26,), (26,))"
      ]
     },
     "execution_count": 8,
     "metadata": {},
     "output_type": "execute_result"
    }
   ],
   "source": [
    "%time\n",
    "jkavg=np.apply_along_axis(np.mean,0,avg_dec) # 0 for column-wise\n",
    "#jkerr2=np.apply_along_axis(np.mean,0,jkerr2Darr) \n",
    "jkerr=np.apply_along_axis(jackknife_utilities.jack_error,0,avg_dec)\n",
    "\n",
    "#jkerr=np.sqrt(jkerr1**2+jkerr2**2)\n",
    "\n",
    "jkavg.shape,jkerr.shape\n",
    "\n",
    "#jkavg\n",
    "#jkerr\n",
    "#len(del_r_dec)"
   ]
  },
  {
   "cell_type": "code",
   "execution_count": 9,
   "metadata": {},
   "outputs": [
    {
     "name": "stdout",
     "output_type": "stream",
     "text": [
      "[  9.32420368 145.60745857   0.24109396]\n",
      "[4.65232715 4.79529832 0.08532412]\n"
     ]
    },
    {
     "data": {
      "image/png": "[encoded data removed]",
      "text/plain": [
       "<Figure size 432x288 with 1 Axes>"
      ]
     },
     "metadata": {
      "needs_background": "light"
     },
     "output_type": "display_data"
    },
    {
     "name": "stdout",
     "output_type": "stream",
     "text": [
      "CPU times: user 94.8 ms, sys: 12.3 ms, total: 107 ms\n",
      "Wall time: 104 ms\n"
     ]
    }
   ],
   "source": [
    "%%time\n",
    "\n",
    "\n",
    "plot_base=1\n",
    "\n",
    "if plot_base==1:\n",
    "    \n",
    "    xdata=del_r_dec[fit_start:fit_end]\n",
    "    ydata=jkavg[fit_start:fit_end]\n",
    "    ydata_err=jkerr[fit_start:fit_end]\n",
    "    \n",
    "    pop,poc=curve_fit(func1,xdata,ydata,sigma=ydata_err, absolute_sigma=True,p0=(p01,p02,p03))\n",
    "    print(pop)\n",
    "    print(np.sqrt(np.diag(poc)))\n",
    "    \n",
    "    #pop3,poc3=curve_fit(func3,xdata,ydata,sigma=ydata_err, absolute_sigma=True,p0=(0.1,0.5,0.05))\n",
    "    #print(pop3)\n",
    "    #print(np.sqrt(np.diag(poc3)))\n",
    "    \n",
    "    plt.errorbar(del_r_dec,jkavg,yerr=jkerr, marker='x',c='k', ls='None')\n",
    "    plt.plot(xdata,func1(xdata,*pop),'b',label='polynomial' )\n",
    "    #plt.plot(xdata,func3(xdata,*pop3),'.r',label='exponential' )\n",
    "    #plt.yscale('log')\n",
    "    plt.legend(loc='best')\n",
    "    plt.show()\n",
    "\n",
    "    #np.transpose([del_r_dec,jkavg,jkerr])\n",
    "\n",
    "df2=pd.DataFrame(np.transpose([del_r_dec,jkavg,jkerr]) )\n",
    "df2.to_csv(\"decimated_data.T\"+T,header=False,index=False,sep='\\t',mode='a')"
   ]
  },
  {
   "cell_type": "code",
   "execution_count": 10,
   "metadata": {},
   "outputs": [
    {
     "name": "stdout",
     "output_type": "stream",
     "text": [
      "CPU times: user 2 µs, sys: 0 ns, total: 2 µs\n",
      "Wall time: 3.34 µs\n"
     ]
    },
    {
     "data": {
      "text/plain": [
       "((26,), (26,))"
      ]
     },
     "execution_count": 10,
     "metadata": {},
     "output_type": "execute_result"
    },
    {
     "data": {
      "text/plain": [
       "199.8560196019602"
      ]
     },
     "execution_count": 10,
     "metadata": {},
     "output_type": "execute_result"
    },
    {
     "data": {
      "text/plain": [
       "array([[206.00133763, 171.44348435, 165.52269227, ..., 153.39728973,\n",
       "        153.54608461, 153.3130113 ],\n",
       "       [206.00088759, 171.44542454, 165.5290129 , ..., 153.40314031,\n",
       "        153.55257526, 153.31980198],\n",
       "       [206.00191769, 171.44356436, 165.52344234, ..., 153.39911991,\n",
       "        153.54643464, 153.31443144],\n",
       "       ...,\n",
       "       [206.0040479 , 171.44439444, 165.5249525 , ..., 153.39907991,\n",
       "        153.54683468, 153.31505151],\n",
       "       [206.00437794, 171.44726473, 165.52833283, ..., 153.40038004,\n",
       "        153.54814481, 153.31608161],\n",
       "       [206.00327783, 171.44847485, 165.52775278, ..., 153.40316032,\n",
       "        153.54928493, 153.31630163]])"
      ]
     },
     "execution_count": 10,
     "metadata": {},
     "output_type": "execute_result"
    },
    {
     "data": {
      "text/plain": [
       "array([224.725, 197.3  , 221.   , 204.   , 209.   , 206.8  , 200.2  ,\n",
       "       206.1  , 196.2  , 207.3  , 206.5  , 207.3  , 213.9  , 203.6  ,\n",
       "       213.9  , 211.4  , 203.4  , 217.1  , 201.6  , 203.5  , 211.7  ,\n",
       "       198.9  , 212.1  , 207.7  , 196.2  , 207.5  ])"
      ]
     },
     "execution_count": 10,
     "metadata": {},
     "output_type": "execute_result"
    }
   ],
   "source": [
    "%time\n",
    "UBavg_data=np.apply_along_axis(jackknife_utilities.partial_average,0,rc) # columnwise operation\n",
    "UBavg_dec=numerical_utilities.decimation4(UBavg_data,dp)\n",
    "#UBavg_dec.shape\n",
    "#UBjkerr2.shape\n",
    "UBjkavg=np.apply_along_axis(np.mean,0,UBavg_dec)\n",
    "UBjkerr=np.apply_along_axis(jackknife_utilities.jack_error,0,UBavg_dec)\n",
    "#UBjkerr2=np.apply_along_axis(np.mean,0,UBjkerr2Darr) \n",
    "\n",
    "#UBjkerr=np.sqrt(UBjkerr1**2+UBjkerr2**2)\n",
    "\n",
    "UBjkavg.shape,UBjkerr.shape\n",
    "np.mean(UBavg_data[0,0:25])\n",
    "UBavg_dec ##############Unjack\n",
    "\n",
    "UBavg_dec_unjacked=np.apply_along_axis(jackknife_utilities.unjack,0,UBavg_dec)\n",
    "\n",
    "UBavg_dec_unjacked[0,:]"
   ]
  },
  {
   "cell_type": "code",
   "execution_count": 11,
   "metadata": {},
   "outputs": [
    {
     "data": {
      "text/plain": [
       "array([206.00133763, 171.44348435, 165.52269227, 162.53471347,\n",
       "       160.61227123, 159.23170317, 158.10641064, 157.56608661,\n",
       "       156.95942594, 156.4719872 , 155.91937194, 155.65418542,\n",
       "       155.18724872, 154.79360936, 154.52247225, 154.26837684,\n",
       "       154.13991399, 154.0120412 , 153.91818182, 153.48130813,\n",
       "       153.41491149, 153.45379538, 153.7320232 , 153.39728973,\n",
       "       153.54608461, 153.3130113 ])"
      ]
     },
     "execution_count": 11,
     "metadata": {},
     "output_type": "execute_result"
    },
    {
     "data": {
      "text/plain": [
       "array([206.00191769, 171.44356436, 165.52344234, 162.53555356,\n",
       "       160.61377138, 159.23267327, 158.1069607 , 157.56767677,\n",
       "       156.95939594, 156.47334733, 155.92005201, 155.65491549,\n",
       "       155.18961896, 154.79368937, 154.52414241, 154.26920692,\n",
       "       154.13937394, 154.01238124, 153.91879188, 153.47966797,\n",
       "       153.41580158, 153.45391539, 153.73282328, 153.39911991,\n",
       "       153.54643464, 153.31443144])"
      ]
     },
     "execution_count": 11,
     "metadata": {},
     "output_type": "execute_result"
    }
   ],
   "source": [
    "UBavg_dec[0,:]\n",
    "UBavg_dec[2,:]"
   ]
  },
  {
   "cell_type": "code",
   "execution_count": 12,
   "metadata": {},
   "outputs": [
    {
     "name": "stdout",
     "output_type": "stream",
     "text": [
      "inflation factor= [0.89910826 0.96901629 1.0652535  1.08978791 1.13019975 1.23177789\n",
      " 1.2626547  1.26813429 1.29726086 1.31877191 1.32504821 1.25296453\n",
      " 1.33812937 1.33390147 1.36020517 1.38928963 1.40638129 1.39237078\n",
      " 1.4072369  1.4034775  1.41253234 1.47533097 1.44045692 1.44619522\n",
      " 1.47129303 1.47420204]\n",
      "covariance unbinned shape= (26, 26)\n",
      "inflate matrix shape= (26, 26)\n",
      "inflated cov shape= (26, 26)\n",
      "CPU times: user 8.57 ms, sys: 668 µs, total: 9.24 ms\n",
      "Wall time: 3.04 ms\n"
     ]
    }
   ],
   "source": [
    "%%time\n",
    "inflation_factor=jkerr/UBjkerr\n",
    "print(\"inflation factor=\",inflation_factor)\n",
    "cov_unbinned=np.cov(UBavg_dec,rowvar=0,bias=True)*(len(UBavg_dec)-1)\n",
    "print(\"covariance unbinned shape=\",cov_unbinned.shape)\n",
    "\n",
    "inflate_matrix=np.diag(inflation_factor)\n",
    "print(\"inflate matrix shape=\",inflate_matrix.shape)\n",
    "\n",
    "inflated_cov=inflate_matrix @ cov_unbinned @inflate_matrix\n",
    "print(\"inflated cov shape=\",inflated_cov.shape)"
   ]
  },
  {
   "cell_type": "code",
   "execution_count": 13,
   "metadata": {
    "scrolled": true
   },
   "outputs": [
    {
     "name": "stdout",
     "output_type": "stream",
     "text": [
      "CPU times: user 14 µs, sys: 0 ns, total: 14 µs\n",
      "Wall time: 3.81 µs\n",
      "0 8.583454467697345 146.67804830191864 0.2529351200596843 0.6457903685394265\n",
      "1 8.613049797875398 146.65545801590042 0.25232661638221127 0.650543107587522\n",
      "2 8.590553219182649 146.67053702389916 0.2528017912852984 0.6485891243165615\n",
      "3 8.57051544173847 146.6915469208772 0.2532530336071134 0.6486785598404159\n",
      "4 8.559436369558327 146.710064544738 0.2534367902994034 0.6495816910852653\n",
      "5 8.575462178709847 146.68177484103146 0.2531173536501989 0.6453151269128596\n",
      "6 8.542419616425862 146.73531280184415 0.2537450602888376 0.6661258777712031\n",
      "7 8.555601830036556 146.72232448455645 0.25349346268513334 0.646656478711737\n",
      "8 8.523610974272167 146.75123553889097 0.25403781221708766 0.6444666178068024\n",
      "9 8.579066863178145 146.68221653940657 0.2530428290577461 0.6425180986304124\n",
      "10 8.576739910466673 146.69134858562796 0.25305629232641996 0.6475652466918188\n",
      "11 8.574252666328057 146.6898329739945 0.25311392630671914 0.6474269999808694\n",
      "12 8.575327366807198 146.68486648959956 0.2531035868371193 0.6479838905248652\n",
      "13 8.571111807721197 146.68337695190183 0.25324045045086463 0.6498870443863687\n",
      "14 8.579267872895093 146.68007910078026 0.2530595034420142 0.6447955548747594\n",
      "15 8.55768078118586 146.71413186786233 0.2534053884417466 0.6518620810230646\n",
      "16 8.575233513429572 146.6890073175593 0.25312550515342236 0.6442110713946859\n",
      "17 8.565532927439119 146.69815574895046 0.25335250347506155 0.6457793789224734\n",
      "18 8.57133014447283 146.68941032861227 0.2532028489725413 0.6458941553350438\n",
      "19 8.580665755044603 146.67840478028958 0.25302158295995275 0.6443175871756092\n",
      "20 8.568067639460397 146.6942825186952 0.25327207152405606 0.6467554174590046\n",
      "21 8.566839962847164 146.70651840874402 0.2531599513514394 0.6496639064340342\n",
      "22 8.566776877364797 146.6955839209678 0.2533356172123299 0.6466962824565665\n",
      "23 8.58102603384541 146.68862009321995 0.2529845146628205 0.6476174889339729\n",
      "24 8.568479248774505 146.69441217211565 0.2532567802691791 0.6532597228994274\n",
      "25 8.547877093800668 146.72400813326652 0.25360827136045133 0.6600749019784062\n",
      "26 8.56000594091073 146.7035307249149 0.25343835438607715 0.6497571232118178\n",
      "27 8.563548181161488 146.7010943484939 0.25335184695440116 0.6503663237843148\n",
      "28 8.600548772810809 146.66642622977355 0.2526071976210198 0.637599141938407\n",
      "29 8.579737708630255 146.6840825561768 0.25304411538001836 0.6487618917621716\n",
      "30 8.56602485527732 146.70190884017074 0.2533097933578111 0.6445356978527229\n",
      "31 8.568991570538081 146.6969718584805 0.2532372523422248 0.652119954803451\n",
      "32 8.600656779520104 146.66517589964226 0.2526053157915908 0.6451069799835601\n",
      "33 8.566994433629361 146.7062505860337 0.2532213889760715 0.6510356578641469\n",
      "34 8.524669813033517 146.75776187622935 0.25397508421873205 0.6517388514066854\n",
      "35 8.595660429239604 146.6740726128789 0.2526742007628254 0.6482168328854997\n",
      "36 8.567405876920006 146.69533838646646 0.25329115083180676 0.6469942393135418\n",
      "37 8.615254433776805 146.65698499693565 0.2522513715275629 0.6529857215753562\n",
      "38 8.571592222748759 146.69189762686588 0.25318851837126755 0.6459368598018852\n",
      "39 8.56716912844909 146.69676044488676 0.2532964657533007 0.6438783791974902\n",
      "40 8.590913700284824 146.67611347932848 0.25281889342135755 0.645359468030739\n",
      "41 8.575384456347898 146.69102174392833 0.25313185099873714 0.6494761517007737\n",
      "42 8.551092288799785 146.71432255970305 0.2536414019414545 0.6435994219489781\n",
      "43 8.564146316563527 146.69961182307037 0.253325209121685 0.6510492231477458\n",
      "44 8.562415615719587 146.70158527280114 0.2533917112988074 0.6477573301172976\n",
      "45 8.58279350907457 146.688312031131 0.25298170800571224 0.6413766256187379\n",
      "46 8.563534287937149 146.69876199355366 0.25335211247871015 0.6510563951568339\n",
      "47 8.590766076315022 146.6781478824068 0.2527806819426421 0.6437445452072699\n",
      "48 8.56670465507003 146.69649712064216 0.2533005752594106 0.6476512795391255\n",
      "49 8.574128276349594 146.69171395011819 0.25315865487058076 0.6523633612374024\n",
      "50 8.566607795911072 146.70349355444708 0.2532679590125741 0.647041626490099\n",
      "51 8.57013542891198 146.69141378335271 0.2532092779193906 0.6509186560923207\n",
      "52 8.576840912709205 146.69299646619675 0.25305756469581814 0.6463934500293119\n",
      "53 8.566083499952194 146.69377931195083 0.2532856443792249 0.6424444571484317\n",
      "54 8.568416252204385 146.69769164721873 0.25329751212557217 0.6478863296988707\n",
      "55 8.559025598992967 146.70917161841618 0.25342509357724413 0.6463242416947788\n",
      "56 8.576388361421172 146.68692270102684 0.25309158835309403 0.6496189071738482\n",
      "57 8.552645231305421 146.72553050355427 0.25348133221716007 0.6464369435653264\n",
      "58 8.56497529096962 146.69949783536137 0.253301882824077 0.6483930517129365\n",
      "59 8.590016508038158 146.6827798752084 0.2528795489701549 0.6519821352730221\n",
      "60 8.555626397423737 146.70385975206597 0.2535577752893341 0.6492926345503746\n",
      "61 8.582277025609509 146.67847866545407 0.25298890680126546 0.6472045078324417\n",
      "62 8.570821654825936 146.69516267762253 0.25319745750270445 0.6515717920941245\n",
      "63 8.584985099527769 146.680973282691 0.25292280776449894 0.6488922537347235\n",
      "64 8.567559771263195 146.6963113000563 0.25327348966734947 0.6508878137034193\n",
      "65 8.567728751828845 146.70369792958977 0.2533064579452811 0.6478269888091736\n",
      "66 8.570573890799562 146.69147809887767 0.253228789196123 0.6496735061797514\n",
      "67 8.582802411702579 146.68410363778437 0.25297587760333895 0.6410342268484319\n",
      "68 8.571452986941152 146.69384535823806 0.25317118858052323 0.6447360506543164\n",
      "69 8.580822002876689 146.68740121243837 0.2530043921251111 0.6505094933094279\n",
      "70 8.571022756281309 146.6903356007578 0.25320374463831913 0.645967050306107\n",
      "71 8.577073497368545 146.68534120072258 0.2530921039331579 0.6481735025232553\n",
      "72 8.575222142467423 146.69039765620715 0.2530983623545624 0.6422712661589111\n",
      "73 8.569813196804036 146.69726529993537 0.2532362693398827 0.6478213376223538\n",
      "74 8.577212666110585 146.68988829646145 0.25307834634044424 0.6469217992063234\n",
      "75 8.565232976126676 146.70814128745974 0.2533341483364801 0.6399930131263359\n",
      "76 8.578892420989122 146.69700615465868 0.25297933830253067 0.6619928239651134\n",
      "77 8.517546547169959 146.75742263316226 0.2542282819896645 0.6468762718432676\n",
      "78 8.591789053141989 146.67850246623019 0.2527843280992386 0.6413330681244478\n",
      "79 8.568243327594011 146.6971410212846 0.25329090469915766 0.6500764487292621\n",
      "80 8.58006249428952 146.68810435716406 0.25297760090673105 0.6493123666720484\n",
      "81 8.55887461873743 146.70050306832132 0.25344520498541717 0.6461883153115632\n",
      "82 8.567191776035514 146.69694321556278 0.25330061279315474 0.6459356454574886\n",
      "83 8.578080354281589 146.69269406823796 0.2530076659500263 0.6547238732954584\n",
      "84 8.570076950586932 146.69256446583395 0.2532187865892844 0.6444953750232368\n",
      "85 8.580186068483233 146.68228580324697 0.2529975899936749 0.6485967133312005\n",
      "86 8.562457846216414 146.70421691054636 0.2533950604779121 0.6420453188535529\n",
      "87 8.57696851079328 146.68889063903183 0.25313524881329785 0.6442349118471812\n",
      "88 8.61310059714221 146.65103604039763 0.25241083046453394 0.6413858140178959\n",
      "89 8.572449876690063 146.6904312129828 0.25318151640547215 0.6509407526948449\n",
      "90 8.565860193417576 146.69964715377301 0.25328830778597844 0.6443660696582243\n",
      "91 8.574812429962549 146.6907533136252 0.2531365079376767 0.6513323025283522\n",
      "92 8.497280371111586 146.7837091257854 0.2544902341160119 0.6415112270587325\n",
      "93 8.519405339131286 146.75900626616192 0.2540687578629581 0.6524944232020297\n",
      "94 8.565456667474193 146.70525414530255 0.2532138873048642 0.6519628930346957\n",
      "95 8.575150315845208 146.68783594031228 0.2531269370686292 0.6465838526226009\n",
      "96 8.570098654380518 146.6918017811405 0.25320783567635147 0.6490222443126492\n",
      "97 8.581259389205472 146.6853208613346 0.2529903620599663 0.6513015986239644\n",
      "98 8.57918744430887 146.68304520282845 0.2530511627368858 0.6508488682852137\n",
      "99 8.568747002060485 146.69181333382758 0.2532889405042919 0.646078765629179\n"
     ]
    }
   ],
   "source": [
    "%time\n",
    "pops=np.array([])\n",
    "chisqr_arr=np.array([])\n",
    "pops3=np.array([])\n",
    "chisqr_arr3=np.array([])\n",
    "\n",
    "for i in np.arange(0,100,1): #config_length\n",
    "    \n",
    "    del_one_config=np.delete(UBavg_dec_unjacked,i,axis=0) # delete one config data for all steps/ delete row of rc\n",
    "    #del_one_config.shape\n",
    "    UBavg_dec2=np.apply_along_axis(jackknife_utilities.partial_average,0,del_one_config)   \n",
    "    \n",
    "    #UBjkavg=np.apply_along_axis(np.mean,0,UBavg_dec)\n",
    "    \n",
    "    cov_unbinned2=np.cov(UBavg_dec2,rowvar=0,bias=True)*(len(UBavg_dec2)-1) ############### CHECK NORMALIZATION IS IT CORRECT????????\n",
    "    #print(\"cov unbinned2 shape\", cov_unbinned2.shape)\n",
    "    inflated_cov2=inflate_matrix @ cov_unbinned2 @ inflate_matrix\n",
    "   \n",
    "    \n",
    "    \n",
    "    xtest=del_r_dec[fit_start:fit_end]\n",
    "    ytest=UBavg_dec[i,fit_start:fit_end]\n",
    "    ycovtest=inflated_cov2[fit_start:fit_end,fit_start:fit_end]\n",
    "    \n",
    "   \n",
    "    polyfit=1\n",
    "    if polyfit:\n",
    "        pop,poc=curve_fit(func1,xtest,ytest,sigma=ycovtest, absolute_sigma=True,p0=(p01,p02,p03))\n",
    "\n",
    "        mychisqr=np.dot( (ytest-func1(xtest,*pop)).T,  np.dot( np.linalg.inv(ycovtest), (ytest-func1(xtest,*pop) ) ) )\n",
    "        mychisqr /= (len(xtest)-3)\n",
    "        chisqr_arr=np.append(chisqr_arr,mychisqr)\n",
    "        pops=np.append(pops,pop)\n",
    "        print(i,pop[0],pop[1],pop[2],mychisqr)\n",
    "        \n",
    "\n",
    "    exp_plot=0\n",
    "    if exp_plot:\n",
    "        pop3,poc3=curve_fit(func3,xtest,ytest,sigma=ycovtest, absolute_sigma=True,p0=(p01,p02,p03))\n",
    "\n",
    "        mychisqr3=np.dot( (ytest-func3(xtest,*pop3)).T,  np.dot( np.linalg.inv(ycovtest), (ytest-func3(xtest,*pop3) ) ) )\n",
    "        mychisqr3 /= (len(xtest)-3)\n",
    "        chisqr_arr3=np.append(chisqr_arr3,mychisqr3)\n",
    "        pops3=np.append(pops3,pop3)\n",
    "        print(i,pop3[0],pop3[1],pop3[2],mychisqr3)\n",
    "        \n",
    "\n",
    "    \n",
    "    "
   ]
  },
  {
   "cell_type": "code",
   "execution_count": 14,
   "metadata": {},
   "outputs": [
    {
     "name": "stdout",
     "output_type": "stream",
     "text": [
      "CPU times: user 28 µs, sys: 2 µs, total: 30 µs\n",
      "Wall time: 5.48 µs\n",
      "fit_min=0.043135, fit_max=1.476491\n",
      "fit_min=49.825108, fit_max=349.446665\n",
      "fits poly [  8.5706406  146.69570791   0.25320047]\n",
      "errors [0.1757695  0.20247169 0.00333194]\n",
      "chisqr 0.6478838021841976\n"
     ]
    },
    {
     "data": {
      "text/plain": [
       "(array([ 2.,  1.,  0.,  3.,  3.,  3., 12., 18., 19., 21.,  8.,  2.,  2.,\n",
       "         1.,  0.,  2.,  1.,  1.,  0.,  1.]),\n",
       " array([0.25225137, 0.25236331, 0.25247526, 0.2525872 , 0.25269914,\n",
       "        0.25281109, 0.25292303, 0.25303497, 0.25314692, 0.25325886,\n",
       "        0.2533708 , 0.25348275, 0.25359469, 0.25370663, 0.25381858,\n",
       "        0.25393052, 0.25404246, 0.2541544 , 0.25426635, 0.25437829,\n",
       "        0.25449023]),\n",
       " <BarContainer object of 20 artists>)"
      ]
     },
     "execution_count": 14,
     "metadata": {},
     "output_type": "execute_result"
    },
    {
     "data": {
      "text/plain": [
       "Text(0.5, 0, '$\\\\Delta$')"
      ]
     },
     "execution_count": 14,
     "metadata": {},
     "output_type": "execute_result"
    },
    {
     "data": {
      "image/png": "[encoded data removed]",
      "text/plain": [
       "<Figure size 432x288 with 1 Axes>"
      ]
     },
     "metadata": {
      "needs_background": "light"
     },
     "output_type": "display_data"
    },
    {
     "data": {
      "text/plain": [
       "(array([ 1.,  1.,  5.,  4., 10., 12., 15., 15., 12., 14.,  7.,  0.,  1.,\n",
       "         0.,  0.,  1.,  0.,  1.,  0.,  1.]),\n",
       " array([0.63759914, 0.63902548, 0.64045182, 0.64187815, 0.64330449,\n",
       "        0.64473083, 0.64615716, 0.6475835 , 0.64900984, 0.65043617,\n",
       "        0.65186251, 0.65328885, 0.65471518, 0.65614152, 0.65756786,\n",
       "        0.65899419, 0.66042053, 0.66184687, 0.6632732 , 0.66469954,\n",
       "        0.66612588]),\n",
       " <BarContainer object of 20 artists>)"
      ]
     },
     "execution_count": 14,
     "metadata": {},
     "output_type": "execute_result"
    },
    {
     "data": {
      "text/plain": [
       "Text(0.5, 0, '$\\\\chi^2$')"
      ]
     },
     "execution_count": 14,
     "metadata": {},
     "output_type": "execute_result"
    },
    {
     "data": {
      "image/png": "[encoded data removed]",
      "text/plain": [
       "<Figure size 432x288 with 1 Axes>"
      ]
     },
     "metadata": {
      "needs_background": "light"
     },
     "output_type": "display_data"
    }
   ],
   "source": [
    "%time\n",
    "\n",
    "x_min=del_r_dec[fit_start]\n",
    "x_max=del_r_dec[fit_end]\n",
    "print(\"fit_min=%f, fit_max=%f\" %(x_min,x_max ))\n",
    "\n",
    "r_min=float(VOL)/(2*np.pi) *np.arccos(1-x_min)\n",
    "r_max=float(VOL)/(2*np.pi) *np.arccos(1-x_max)\n",
    "print(\"fit_min=%f, fit_max=%f\" %(r_min,r_max ))\n",
    "\n",
    "\n",
    "polyfit=1\n",
    "if polyfit:\n",
    "    popsR=pops.reshape(len(pops)//3,3)\n",
    "\n",
    "    df3=pd.DataFrame(popsR)\n",
    "    df3.to_csv(\"indiv_polyfit_T\"+T,header=False,index=False,sep='\\t')\n",
    "\n",
    "    final_pops=np.mean(popsR,axis=0) # 0 for columnwise mean\n",
    "    print(\"fits poly\",final_pops)\n",
    "\n",
    "    final_pops_err=np.apply_along_axis(jackknife_utilities.jack_error,0,popsR) # you need jackknife error as the\n",
    "                                       # data here coming from jackknife\n",
    "    print(\"errors\", final_pops_err)\n",
    "    chisqr_final=np.mean(chisqr_arr)\n",
    "    print(\"chisqr\", chisqr_final)\n",
    "    \n",
    "    df=pd.DataFrame([[float(T),*final_pops,*final_pops_err,chisqr_final,x_min,x_max,int(r_min),int(r_max),fit_start,fit_end]])\n",
    "    df.to_csv(\"fit_info.vol\"+VOL,header=False,index=False,sep='\\t',mode='a')\n",
    "    \n",
    "    df2=pd.DataFrame([[float(T),final_pops[2],final_pops_err[2],chisqr_final,int(r_min),int(r_max),fit_start,fit_end]])\n",
    "    df2.to_csv(\"fit.T\"+T,header=False,index=False,sep='\\t',mode='a')\n",
    "    \n",
    "    #### plot distributions\n",
    "    plt.hist(popsR[:,2],bins=20)\n",
    "    plt.xlabel(r'$\\Delta$',fontsize=16)\n",
    "    plt.savefig(\"poly.T\"+T+\".delta_hist.png\",bbox_inches='tight')\n",
    "    plt.show()\n",
    "    plt.close()\n",
    "\n",
    "    plt.hist(chisqr_arr,bins=20)\n",
    "    plt.xlabel(r'$\\chi^2$',fontsize=16)\n",
    "    plt.savefig(\"poly.T\"+T+\".chisqr_hist.png\",bbox_inches='tight')\n",
    "    plt.show()\n",
    "    plt.close()\n",
    "\n",
    "\n",
    "\n",
    "###############################################################################\n",
    "\n",
    "exp_plot=0\n",
    "if exp_plot:\n",
    "    pops3R=pops3.reshape(len(pops3)//3,3)\n",
    "\n",
    "    df4=pd.DataFrame(pops3R)\n",
    "    df4.to_csv(\"indiv_expfit_T\"+T,header=False,index=False,sep='\\t')\n",
    "\n",
    "\n",
    "\n",
    "    final_pops3=np.mean(pops3R,axis=0) # 0 for columnwise mean\n",
    "    print(\"fits exp\",final_pops3)\n",
    "\n",
    "    final_pops3_err=np.apply_along_axis(jackknife_utilities.jack_error,0,pops3R) # you need jackknife error as the\n",
    "                                       # data here coming from jackknife\n",
    "    \n",
    "    print(\"errors\", final_pops3_err)\n",
    "    chisqr3_final=np.mean(chisqr_arr3)\n",
    "    print(\"chisqr\", chisqr3_final)\n",
    "    \n",
    "    df=pd.DataFrame([[float(T),*final_pops,*final_pops_err,chisqr_final,x_min,x_max,int(r_min),int(r_max),fit_start,fit_end]])\n",
    "    df.to_csv(\"fit_info.vol\"+VOL,header=False,index=False,sep='\\t',mode='a')\n",
    "    \n",
    "    plt.hist(pops3R[:,2],bins=20)\n",
    "    plt.xlabel(r'$m$',fontsize=16)\n",
    "    plt.savefig(\"exp.T\"+T+\".m_hist.png\",bbox_inches='tight')\n",
    "    plt.show()\n",
    "\n",
    "    plt.close()\n",
    "\n",
    "    plt.hist(chisqr_arr3,bins=20)\n",
    "    plt.xlabel(r'$\\chi^2$',fontsize=16)\n",
    "    plt.savefig(\"exp.T\"+T+\".chisqr_hist.png\",bbox_inches='tight')\n",
    "    plt.show()\n",
    "    plt.close()\n",
    "#######################################################################\n"
   ]
  },
  {
   "cell_type": "code",
   "execution_count": 15,
   "metadata": {},
   "outputs": [
    {
     "data": {
      "text/plain": [
       "7.774605626210372"
      ]
     },
     "execution_count": 15,
     "metadata": {},
     "output_type": "execute_result"
    },
    {
     "data": {
      "text/plain": [
       "0.8024868404574266"
      ]
     },
     "execution_count": 15,
     "metadata": {},
     "output_type": "execute_result"
    },
    {
     "data": {
      "text/plain": [
       "0.8024868404574266"
      ]
     },
     "execution_count": 15,
     "metadata": {},
     "output_type": "execute_result"
    }
   ],
   "source": [
    "fit_param_total=3\n",
    "dof=fit_end-fit_start-fit_param_total\n",
    "#dof=17\n",
    "#chisqr_final=0.6778\n",
    "chisqr_final*dof\n",
    "\n",
    "1-chi2.cdf(chisqr_final*dof,dof)\n",
    "chi2.sf(chisqr_final*dof,dof,loc=0, scale=1)\n"
   ]
  },
  {
   "cell_type": "code",
   "execution_count": 23,
   "metadata": {},
   "outputs": [
    {
     "data": {
      "text/plain": [
       "<ErrorbarContainer object of 3 artists>"
      ]
     },
     "execution_count": 23,
     "metadata": {},
     "output_type": "execute_result"
    },
    {
     "data": {
      "text/plain": [
       "[<matplotlib.lines.Line2D at 0x7f0ea5357550>]"
      ]
     },
     "execution_count": 23,
     "metadata": {},
     "output_type": "execute_result"
    },
    {
     "data": {
      "text/plain": [
       "Text(0.5, 0, '$(1-\\\\cos(\\\\theta) ) $')"
      ]
     },
     "execution_count": 23,
     "metadata": {},
     "output_type": "execute_result"
    },
    {
     "data": {
      "text/plain": [
       "Text(0.4, 0.85, '$\\\\mathrm{T}$=2.7')"
      ]
     },
     "execution_count": 23,
     "metadata": {},
     "output_type": "execute_result"
    },
    {
     "data": {
      "text/plain": [
       "Text(0, 0.5, '$ C(\\\\theta)$')"
      ]
     },
     "execution_count": 23,
     "metadata": {},
     "output_type": "execute_result"
    },
    {
     "data": {
      "image/png": "[encoded data removed]",
      "text/plain": [
       "<Figure size 432x288 with 1 Axes>"
      ]
     },
     "metadata": {},
     "output_type": "display_data"
    }
   ],
   "source": [
    "##fit-1: only fitted part regular scale\n",
    "\n",
    "plt.rc('text',usetex=True)\n",
    "fig, ax = plt.subplots(facecolor=\"w\")\n",
    "ax.tick_params(axis='both', which='major', labelsize=20)\n",
    "plt.errorbar(del_r_dec[fit_start:fit_end],jkavg[fit_start:fit_end],yerr=jkerr[fit_start:fit_end],marker='x',c='c',ls='none',capsize=5)\n",
    "plt.plot(del_r_dec[fit_start:fit_end],func1(del_r_dec[fit_start:fit_end],*final_pops),'k',label='poly')\n",
    "\n",
    "#plt.plot(del_r_dec[fit_start:fit_end],func3(del_r_dec[fit_start:fit_end],*final_pops3),'r',label='exp')\n",
    "#plt.legend(loc='best')\n",
    "plt.xlabel(r'$(1-\\cos(\\theta) ) $', fontsize=30)\n",
    "plt.ticklabel_format(useOffset=False)\n",
    "#plt.ylabel(r'$ \\log C(\\theta)$', fontsize=16)\n",
    "plt.annotate(r'$\\mathrm{T}$=%s' %(T), xy=(0.4,0.85),xycoords='axes fraction',fontsize=30 )\n",
    "plt.ylabel(r'$ C(\\theta)$', fontsize=30)\n",
    "\n",
    "#plt.xlim([0.2,1])\n",
    "#plt.ylim([0.05,0.08])\n",
    "plt.savefig(\"both.fit1_regularscale.T.\"+T+\".png\",bbox_inches='tight')\n",
    "plt.show()\n",
    "plt.close()"
   ]
  },
  {
   "cell_type": "code",
   "execution_count": 28,
   "metadata": {},
   "outputs": [
    {
     "data": {
      "text/plain": [
       "<ErrorbarContainer object of 3 artists>"
      ]
     },
     "execution_count": 28,
     "metadata": {},
     "output_type": "execute_result"
    },
    {
     "data": {
      "text/plain": [
       "[<matplotlib.lines.Line2D at 0x7f0e9e4a3490>]"
      ]
     },
     "execution_count": 28,
     "metadata": {},
     "output_type": "execute_result"
    },
    {
     "data": {
      "text/plain": [
       "<matplotlib.legend.Legend at 0x7f0e9e510c70>"
      ]
     },
     "execution_count": 28,
     "metadata": {},
     "output_type": "execute_result"
    },
    {
     "data": {
      "text/plain": [
       "Text(0.5, 0, '$(1-\\\\cos(\\\\theta) ) $')"
      ]
     },
     "execution_count": 28,
     "metadata": {},
     "output_type": "execute_result"
    },
    {
     "data": {
      "text/plain": [
       "Text(0.4, 0.9, '$\\\\mathrm{T}$=2.7')"
      ]
     },
     "execution_count": 28,
     "metadata": {},
     "output_type": "execute_result"
    },
    {
     "data": {
      "text/plain": [
       "Text(0, 0.5, '$ C(\\\\theta)$')"
      ]
     },
     "execution_count": 28,
     "metadata": {},
     "output_type": "execute_result"
    },
    {
     "data": {
      "image/png": "[encoded data removed]",
      "text/plain": [
       "<Figure size 432x288 with 1 Axes>"
      ]
     },
     "metadata": {},
     "output_type": "display_data"
    }
   ],
   "source": [
    "##fit-2: only fitted part log-scale\n",
    "fig = plt.figure(facecolor=\"w\")\n",
    "plt.errorbar(del_r_dec[fit_start:fit_end],jkavg[fit_start:fit_end],yerr=jkerr[fit_start:fit_end],marker='x',c='c',ls='none',capsize=5)\n",
    "plt.plot(del_r_dec[fit_start:fit_end],func1(del_r_dec[fit_start:fit_end],*final_pops),'k',label='poly')\n",
    "#plt.plot(del_r_dec[fit_start:fit_end],func3(del_r_dec[fit_start:fit_end],*final_pops3),'r',label='exp')\n",
    "plt.legend(loc='best')\n",
    "plt.xlabel(r'$(1-\\cos(\\theta) ) $', fontsize=30)\n",
    "plt.ticklabel_format(useOffset=False)\n",
    "#plt.ylabel(r'$ \\log C(\\theta)$', fontsize=16)\n",
    "plt.annotate(r'$\\mathrm{T}$=%s' %(T), xy=(0.4,0.9),xycoords='axes fraction',fontsize=30 )\n",
    "plt.ylabel(r'$ C(\\theta)$', fontsize=30)\n",
    "plt.xscale('log')\n",
    "plt.yscale('log')\n",
    "#plt.xlim([0.2,1])\n",
    "#plt.ylim([0.05,0.08])\n",
    "plt.savefig(\"both.fit2_logscale.T.\"+T+\".png\",bbox_inches='tight')\n",
    "plt.show()\n",
    "plt.close()"
   ]
  },
  {
   "cell_type": "code",
   "execution_count": 29,
   "metadata": {},
   "outputs": [
    {
     "data": {
      "text/plain": [
       "<ErrorbarContainer object of 3 artists>"
      ]
     },
     "execution_count": 29,
     "metadata": {},
     "output_type": "execute_result"
    },
    {
     "data": {
      "text/plain": [
       "[<matplotlib.lines.Line2D at 0x7f0e9e3a2a60>]"
      ]
     },
     "execution_count": 29,
     "metadata": {},
     "output_type": "execute_result"
    },
    {
     "data": {
      "text/plain": [
       "<matplotlib.legend.Legend at 0x7f0e9e3a2280>"
      ]
     },
     "execution_count": 29,
     "metadata": {},
     "output_type": "execute_result"
    },
    {
     "data": {
      "text/plain": [
       "Text(0.5, 0, '$(1-\\\\cos(\\\\theta) ) $')"
      ]
     },
     "execution_count": 29,
     "metadata": {},
     "output_type": "execute_result"
    },
    {
     "data": {
      "text/plain": [
       "Text(0.4, 0.9, '$\\\\mathrm{T}$=2.7')"
      ]
     },
     "execution_count": 29,
     "metadata": {},
     "output_type": "execute_result"
    },
    {
     "data": {
      "text/plain": [
       "Text(0, 0.5, '$ C(\\\\theta)$')"
      ]
     },
     "execution_count": 29,
     "metadata": {},
     "output_type": "execute_result"
    },
    {
     "data": {
      "image/png": "[encoded data removed]",
      "text/plain": [
       "<Figure size 432x288 with 1 Axes>"
      ]
     },
     "metadata": {},
     "output_type": "display_data"
    }
   ],
   "source": [
    "#fit3: complete range--regular scale\n",
    "fig = plt.figure(facecolor=\"w\")\n",
    "plt.errorbar(del_r_dec,jkavg,yerr=jkerr,marker='x',c='c',ls='none',capsize=5)\n",
    "plt.plot(del_r_dec,func1(del_r_dec,*final_pops),'k',label='poly')\n",
    "#plt.plot(del_r_dec,func3(del_r_dec,*final_pops3),'r',label='exp')\n",
    "plt.legend(loc='best')\n",
    "plt.xlabel(r'$(1-\\cos(\\theta) ) $', fontsize=30)\n",
    "plt.ticklabel_format(useOffset=False)\n",
    "#plt.ylabel(r'$ \\log C(\\theta)$', fontsize=16)\n",
    "plt.annotate(r'$\\mathrm{T}$=%s' %(T), xy=(0.4,0.9),xycoords='axes fraction',fontsize=30 )\n",
    "plt.ylabel(r'$ C(\\theta)$', fontsize=30)\n",
    "#plt.xscale('log')\n",
    "#plt.yscale('log')\n",
    "plt.savefig(\"both.fit3_regularscale.T.\"+T+\".png\",bbox_inches='tight')\n",
    "plt.show()\n",
    "plt.close()"
   ]
  },
  {
   "cell_type": "code",
   "execution_count": 30,
   "metadata": {},
   "outputs": [
    {
     "data": {
      "text/plain": [
       "<ErrorbarContainer object of 3 artists>"
      ]
     },
     "execution_count": 30,
     "metadata": {},
     "output_type": "execute_result"
    },
    {
     "data": {
      "text/plain": [
       "[<matplotlib.lines.Line2D at 0x7f0e9e8164f0>]"
      ]
     },
     "execution_count": 30,
     "metadata": {},
     "output_type": "execute_result"
    },
    {
     "data": {
      "text/plain": [
       "<matplotlib.legend.Legend at 0x7f0e9e9befd0>"
      ]
     },
     "execution_count": 30,
     "metadata": {},
     "output_type": "execute_result"
    },
    {
     "data": {
      "text/plain": [
       "Text(0.5, 0, '$(1-\\\\cos(\\\\theta) ) $')"
      ]
     },
     "execution_count": 30,
     "metadata": {},
     "output_type": "execute_result"
    },
    {
     "data": {
      "text/plain": [
       "Text(0.4, 0.9, '$\\\\mathrm{T}$=2.7')"
      ]
     },
     "execution_count": 30,
     "metadata": {},
     "output_type": "execute_result"
    },
    {
     "data": {
      "text/plain": [
       "Text(0, 0.5, '$ C(\\\\theta)$')"
      ]
     },
     "execution_count": 30,
     "metadata": {},
     "output_type": "execute_result"
    },
    {
     "data": {
      "image/png": "[encoded data removed]",
      "text/plain": [
       "<Figure size 432x288 with 1 Axes>"
      ]
     },
     "metadata": {},
     "output_type": "display_data"
    }
   ],
   "source": [
    "#fit 4: complete range---log scale\n",
    "fig = plt.figure(facecolor=\"w\")\n",
    "plt.errorbar(del_r_dec,jkavg,yerr=jkerr,marker='x',c='c',ls='none',capsize=5)\n",
    "plt.plot(del_r_dec,func1(del_r_dec,*final_pops),'k',label='poly')\n",
    "#plt.plot(del_r_dec,func3(del_r_dec,*final_pops3),'r',label='exp')\n",
    "plt.legend(loc='best')\n",
    "plt.xlabel(r'$(1-\\cos(\\theta) ) $', fontsize=30)\n",
    "plt.ticklabel_format(useOffset=False)\n",
    "#plt.ylabel(r'$ \\log C(\\theta)$', fontsize=16)\n",
    "plt.annotate(r'$\\mathrm{T}$=%s' %(T), xy=(0.4,0.9),xycoords='axes fraction',fontsize=30 )\n",
    "plt.ylabel(r'$ C(\\theta)$', fontsize=30)\n",
    "plt.xscale('log')\n",
    "plt.yscale('log')\n",
    "plt.savefig(\"both.fit4_logscale.T.\"+T+\".png\",bbox_inches='tight')\n",
    "plt.show()\n",
    "plt.close()"
   ]
  },
  {
   "cell_type": "code",
   "execution_count": 27,
   "metadata": {},
   "outputs": [
    {
     "data": {
      "text/plain": [
       "<ErrorbarContainer object of 3 artists>"
      ]
     },
     "execution_count": 27,
     "metadata": {},
     "output_type": "execute_result"
    },
    {
     "data": {
      "text/plain": [
       "[<matplotlib.lines.Line2D at 0x7f0e9e542520>]"
      ]
     },
     "execution_count": 27,
     "metadata": {},
     "output_type": "execute_result"
    },
    {
     "data": {
      "text/plain": [
       "Text(0.5, 0, '$(1-\\\\cos(\\\\theta) ) $')"
      ]
     },
     "execution_count": 27,
     "metadata": {},
     "output_type": "execute_result"
    },
    {
     "data": {
      "text/plain": [
       "Text(0.4, 0.85, '$\\\\mathrm{T}$=2.7')"
      ]
     },
     "execution_count": 27,
     "metadata": {},
     "output_type": "execute_result"
    },
    {
     "data": {
      "text/plain": [
       "Text(0, 0.5, '$ C(\\\\theta)$')"
      ]
     },
     "execution_count": 27,
     "metadata": {},
     "output_type": "execute_result"
    },
    {
     "data": {
      "image/png": "[encoded data removed]",
      "text/plain": [
       "<Figure size 432x288 with 1 Axes>"
      ]
     },
     "metadata": {},
     "output_type": "display_data"
    }
   ],
   "source": [
    "#fit5\n",
    "plt.rc('text',usetex=True)\n",
    "fig, ax = plt.subplots(facecolor=\"w\")\n",
    "ax.tick_params(axis='both', which='major', labelsize=20)\n",
    "lr=len(del_r_dec)\n",
    "plt.errorbar(del_r_dec[1:lr],jkavg[1:lr],yerr=jkerr[1:lr],marker='x',c='c',ls='none',capsize=5)\n",
    "plt.plot(del_r_dec[fit_start:fit_end],func1(del_r_dec[fit_start:fit_end],*final_pops),'k',lw=2,label='poly')\n",
    "#plt.plot(del_r_dec[fit_start:fit_end],func3(del_r_dec[fit_start:fit_end],*final_pops3),'r',lw=2,label='exp')\n",
    "#plt.legend(loc='best')\n",
    "plt.xlabel(r'$(1-\\cos(\\theta) ) $', fontsize=30)\n",
    "#plt.grid('on')\n",
    "plt.ticklabel_format(useOffset=False)\n",
    "#plt.ylabel(r'$ \\log C(\\theta)$', fontsize=16)\n",
    "plt.annotate(r'$\\mathrm{T}$=%s' %(T), xy=(0.4,0.85),xycoords='axes fraction',fontsize=30 )\n",
    "plt.ylabel(r'$ C(\\theta)$', fontsize=30)\n",
    "#plt.xscale('log')\n",
    "#plt.yscale('log')\n",
    "plt.savefig(\"both.fit5_regular.T.\"+T+\".png\",bbox_inches='tight')\n",
    "plt.show()\n",
    "plt.close()"
   ]
  },
  {
   "cell_type": "code",
   "execution_count": null,
   "metadata": {},
   "outputs": [],
   "source": [
    "#fit6\n",
    "fig = plt.figure(facecolor=\"w\")\n",
    "lr=len(del_r_dec)\n",
    "plt.errorbar(del_r_dec[1:lr],jkavg[1:lr],yerr=jkerr[1:lr],marker='x',c='c',ls='none',capsize=5)\n",
    "plt.plot(del_r_dec[fit_start:fit_end],func1(del_r_dec[fit_start:fit_end],*final_pops),'k',lw=2,label='poly')\n",
    "#plt.plot(del_r_dec[fit_start:fit_end],func3(del_r_dec[fit_start:fit_end],*final_pops3),'r',lw=2,label='exp')\n",
    "plt.legend(loc='best')\n",
    "plt.xlabel(r'$(1-\\cos(\\theta) ) $', fontsize=30)\n",
    "plt.ticklabel_format(useOffset=False)\n",
    "#plt.ylabel(r'$ \\log C(\\theta)$', fontsize=16)\n",
    "plt.annotate(r'$\\mathrm{T}$=%s' %(T), xy=(0.4,0.9),xycoords='axes fraction',fontsize=30 )\n",
    "plt.ylabel(r'$ C(\\theta)$', fontsize=30)\n",
    "plt.xscale('log')\n",
    "plt.yscale('log')\n",
    "plt.savefig(\"both.fit6_logscale.T.\"+T+\".png\",bbox_inches='tight')\n",
    "plt.show()\n",
    "plt.close()"
   ]
  },
  {
   "cell_type": "code",
   "execution_count": null,
   "metadata": {},
   "outputs": [],
   "source": [
    "np.exp(-0.01*65)\n",
    "1/(1-np.cos(65/532*np.pi) )**(-0.15)"
   ]
  },
  {
   "cell_type": "code",
   "execution_count": null,
   "metadata": {},
   "outputs": [],
   "source": [
    "config_length"
   ]
  },
  {
   "cell_type": "code",
   "execution_count": null,
   "metadata": {},
   "outputs": [],
   "source": []
  }
 ],
 "metadata": {
  "kernelspec": {
   "display_name": "Python 3",
   "language": "python",
   "name": "python3"
  },
  "language_info": {
   "codemirror_mode": {
    "name": "ipython",
    "version": 3
   },
   "file_extension": ".py",
   "mimetype": "text/x-python",
   "name": "python",
   "nbconvert_exporter": "python",
   "pygments_lexer": "ipython3",
   "version": "3.8.5"
  }
 },
 "nbformat": 4,
 "nbformat_minor": 4
}
